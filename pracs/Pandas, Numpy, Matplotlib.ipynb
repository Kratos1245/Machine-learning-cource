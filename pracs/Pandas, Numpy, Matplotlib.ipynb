{
 "cells": [
  {
   "cell_type": "code",
   "execution_count": 43,
   "metadata": {},
   "outputs": [],
   "source": [
    "import os\n",
    "import time\n",
    "from tqdm import tqdm_notebook # не обязательный\n",
    "import numpy as np\n",
    "import pandas as pd\n",
    "import matplotlib\n",
    "import matplotlib.pyplot as plt\n",
    "%matplotlib inline\n",
    "import seaborn as sns"
   ]
  },
  {
   "cell_type": "code",
   "execution_count": 44,
   "metadata": {},
   "outputs": [],
   "source": [
    "# Делает графики удобного размера\n",
    "matplotlib.rcParams['figure.figsize'] = (8, 8)\n",
    "# Делает красивый грид на графиках\n",
    "sns.set_style('whitegrid')"
   ]
  },
  {
   "cell_type": "markdown",
   "metadata": {},
   "source": [
    "### Pandas"
   ]
  },
  {
   "cell_type": "markdown",
   "metadata": {},
   "source": [
    "Для выполнения этого блока заданий вам понадобится файл <<Данные для практической работы №1>>"
   ]
  },
  {
   "cell_type": "code",
   "execution_count": 180,
   "metadata": {},
   "outputs": [],
   "source": [
    "# Загрузите данные в переменную dat и выведите размер датафрейма и первые 5 строк\n",
    "# здесь ваш код:"
   ]
  },
  {
   "cell_type": "code",
   "execution_count": null,
   "metadata": {
    "scrolled": true
   },
   "outputs": [],
   "source": []
  },
  {
   "cell_type": "code",
   "execution_count": 181,
   "metadata": {},
   "outputs": [],
   "source": [
    "# Сколько пропусков в каждой из колонок (NaN) [1 балл]\n",
    "# здесь ваш код:"
   ]
  },
  {
   "cell_type": "code",
   "execution_count": null,
   "metadata": {},
   "outputs": [],
   "source": []
  },
  {
   "cell_type": "code",
   "execution_count": 51,
   "metadata": {},
   "outputs": [],
   "source": [
    "# Напечатать таблицу с 2 колонками: 1 - уникальные значения quantity, 2 - сколько раз каждое такое значение встречается [1 балл]\n",
    "# (выведите их отсортированными по значениям quantity в возрастающем порядке)\n",
    "# здесь ваш код:"
   ]
  },
  {
   "cell_type": "code",
   "execution_count": null,
   "metadata": {},
   "outputs": [],
   "source": []
  },
  {
   "cell_type": "code",
   "execution_count": 145,
   "metadata": {},
   "outputs": [],
   "source": [
    "# Напечатать таблицу с 2 колонками: 1 - уникальные значения item_name, 2 - сколько раз каждое такое значение встречается [1 балл]\n",
    "# (выведите их отсортированными по значениям встречаемости в возрастающем порядке)\n",
    "# здесь ваш код:"
   ]
  },
  {
   "cell_type": "code",
   "execution_count": null,
   "metadata": {
    "scrolled": true
   },
   "outputs": [],
   "source": []
  },
  {
   "cell_type": "code",
   "execution_count": 146,
   "metadata": {},
   "outputs": [],
   "source": [
    "# Сделайте item_price типом float  (Подсказка: надо удалить знаки $) [2 балла]\n",
    "# здесь ваш код:"
   ]
  },
  {
   "cell_type": "code",
   "execution_count": null,
   "metadata": {},
   "outputs": [],
   "source": []
  },
  {
   "cell_type": "code",
   "execution_count": 147,
   "metadata": {},
   "outputs": [],
   "source": [
    "# Создайте колонку one_item_price - стоимость одной порции блюда, которая будет равна item_price/quantity [1 балл]\n",
    "# здесь ваш код:"
   ]
  },
  {
   "cell_type": "code",
   "execution_count": null,
   "metadata": {},
   "outputs": [],
   "source": []
  },
  {
   "cell_type": "code",
   "execution_count": 148,
   "metadata": {},
   "outputs": [],
   "source": [
    "# Создайте датафрейм из 3 колонок: 1 - уникальные item_name, 2 - минимальная цена(one_item_price), 3 - максимальная цена(one_item_price) [2 балла]\n",
    "# Отсортируйте этот датафрейм по убыванию значения максимальной цены (one_item_price)\n",
    "# Сохраните полученный датафрейм в переменную dat_gr и напечатайте его первые 5 строк\n",
    "# здесь ваш код:"
   ]
  },
  {
   "cell_type": "code",
   "execution_count": null,
   "metadata": {},
   "outputs": [],
   "source": []
  },
  {
   "cell_type": "code",
   "execution_count": 150,
   "metadata": {},
   "outputs": [],
   "source": [
    "# Отсортируйте dat_gr по значению разницы между максимальной и минимальной ценами в убывающем порядке [2 балла]\n",
    "# здесь ваш код:"
   ]
  },
  {
   "cell_type": "code",
   "execution_count": null,
   "metadata": {
    "scrolled": true
   },
   "outputs": [],
   "source": []
  },
  {
   "cell_type": "code",
   "execution_count": 152,
   "metadata": {},
   "outputs": [],
   "source": [
    "# Отсортируйте item_name по длине названия и выдайте 5 самых длинных названий [1 балл]\n",
    "# здесь ваш код:"
   ]
  },
  {
   "cell_type": "code",
   "execution_count": null,
   "metadata": {},
   "outputs": [],
   "source": []
  },
  {
   "cell_type": "code",
   "execution_count": 153,
   "metadata": {},
   "outputs": [],
   "source": [
    "# Сколько заказов содержит ровно 1 товар? (Подсказка: заказ определяется order_id - все строки, у которых одинковый order_id - это один заказ)\n",
    "# [3 балла]\n",
    "# здесь ваш код:"
   ]
  },
  {
   "cell_type": "code",
   "execution_count": null,
   "metadata": {},
   "outputs": [],
   "source": []
  },
  {
   "cell_type": "code",
   "execution_count": 154,
   "metadata": {},
   "outputs": [],
   "source": [
    "# Выведите все виды буррито которые есть с количеством раз, сколько они встречались в датафрейме dat [3 балла]\n",
    "# (Подсказка: во всех видах буррито присутствует слово \"Burrito\")\n",
    "# здесь ваш код:"
   ]
  },
  {
   "cell_type": "code",
   "execution_count": null,
   "metadata": {},
   "outputs": [],
   "source": []
  },
  {
   "cell_type": "code",
   "execution_count": 155,
   "metadata": {},
   "outputs": [],
   "source": [
    "# Выведите таблицу с 2 колонками: 1 - уникальные виды буритто, 2 - их стоимости, отсортированную по убыванию стоимостей [1 балл]\n",
    "# здесь ваш код:"
   ]
  },
  {
   "cell_type": "code",
   "execution_count": null,
   "metadata": {},
   "outputs": [],
   "source": []
  },
  {
   "cell_type": "code",
   "execution_count": 156,
   "metadata": {},
   "outputs": [],
   "source": [
    "# В каком количестве заказов есть товар, который составляет более 40% от стоимости всего заказа [4 балла]\n",
    "# здесь ваш код:"
   ]
  },
  {
   "cell_type": "code",
   "execution_count": null,
   "metadata": {},
   "outputs": [],
   "source": []
  },
  {
   "cell_type": "code",
   "execution_count": 157,
   "metadata": {},
   "outputs": [],
   "source": [
    "# Представим, что товар [Diet Coke] (choice_description) на самом деле стоил на 15% дороже, чем написано в таблице \n",
    "# (то есть вместо 1.09 -> 1.09*1.15, 1.25 -> 1.25*1.15, 6.49 -> 6.49*1.15).\n",
    "# Сколько денег прошло мимо кассы, если учесть, что продавался этот товар по новой стоимости, а чек печатался по старой [2 балла]\n",
    "# здесь ваш код:"
   ]
  },
  {
   "cell_type": "code",
   "execution_count": null,
   "metadata": {},
   "outputs": [],
   "source": []
  },
  {
   "cell_type": "code",
   "execution_count": 158,
   "metadata": {},
   "outputs": [],
   "source": [
    "# Создайте датафрейм из random_matrix, удовлетворяющий следующим условиям: \n",
    "# 1) колонки датафрейма должны называться ['A', 'B', 'C', 'D', 'E']\n",
    "# 2) Колонка \"B\" должна быть индексом\n",
    "# random_matrix = np.random.randint(-5, 5, size=(15, 5))\n",
    "# Сохраните полученный датафрейм на диск [1 балл]\n",
    "# здесь ваш код:"
   ]
  },
  {
   "cell_type": "code",
   "execution_count": null,
   "metadata": {
    "scrolled": true
   },
   "outputs": [],
   "source": []
  },
  {
   "cell_type": "markdown",
   "metadata": {},
   "source": [
    "### Plain python and Numpy"
   ]
  },
  {
   "cell_type": "code",
   "execution_count": 182,
   "metadata": {},
   "outputs": [],
   "source": [
    "# Написать функцию, которая принимает на вход словарь: ключ - число от -3 до 5, значение - список из 4 случайных целых чисел от -5 до 5.\n",
    "# На выходе функция должна должна выдать словарь, ключами которого являются уникальные значения из списков входного словаря, а значениями -\n",
    "# список ключей, которые содержат данное значение. [2 балла]\n",
    "# Например для словаря:\n",
    "# {-3: [2, -5, -1],\n",
    "#  -2: [0, 1, -1, -2],\n",
    "#  -1: [3, -4, -3, -2],\n",
    "#  0: [0, 3, -4],\n",
    "#  1: [0, 3, -5],\n",
    "#  2: [0, 4, -3],\n",
    "#  3: [2, -4, -1],\n",
    "#  4: [3, -4, -3, -2],\n",
    "#  5: [-4, -3, -1]}\n",
    "# функция должна вернуть:\n",
    "# {-5: [-3, 1],\n",
    "#  -4: [-1, 0, 3, 4, 5],\n",
    "#  -3: [-1, 2, 4, 5],\n",
    "#  -2: [-2, -1, 4],\n",
    "#  -1: [-3, -2, 3, 5],\n",
    "#  0: [-2, 0, 1, 2],\n",
    "#  1: [-2],\n",
    "#  2: [-3, 3],\n",
    "#  3: [-1, 0, 1, 4],\n",
    "#  4: [2]}\n",
    "# сгенерировать такой словарь можно функцией: generated_dict = {i: list(set(np.random.randint(-5, 5, size=4).tolist())) for i in range(-3, 5+1)}\n",
    "\n",
    "def inverting_func(some_dict):\n",
    "    # здесь ваш код:\n",
    "\n",
    "    return resulting_dict"
   ]
  },
  {
   "cell_type": "raw",
   "metadata": {},
   "source": [
    "Полезные функции NumPy: np.zeros, np.ones, np.diag, np.eye, np.arange, np.linspace, np.meshgrid,\n",
    "np.random.random, np.random.randint, np.shape, np.reshape, np.transpose, np.any, np.all, np.nonzero, np.where,\n",
    "np.sum, np.cumsum, np.prod, np.diff, np.min, np.max, np.minimum, np.maximum, np.argmin, np.argmax, np.unique,\n",
    "np.sort, np.argsort, np.bincount, np.ravel, np.newaxis, np.dot, np.linalg.inv, np.linalg.solve"
   ]
  },
  {
   "cell_type": "code",
   "execution_count": 183,
   "metadata": {},
   "outputs": [],
   "source": [
    "# Написать функцию, которая подсчитывает количество ненулевый элементов на главное диагонали прямоугольной матрицы. \n",
    "## Пример:\n",
    "# Для X = np.array([[1, 0, 1], [2, 0, 2], [3, 0, 3], [4, 4, 4]]) ответ 3.\n",
    "def my_diag_product_func(x):\n",
    "    # здесь ваш код:\n",
    "    \n",
    "    return result"
   ]
  },
  {
   "cell_type": "code",
   "execution_count": 184,
   "metadata": {},
   "outputs": [],
   "source": [
    "# Написать функцию, выдает максимальный элемент из тех, перед которым идёт ноль. Если в массиве нет нулей - выдает \"В массиве нет нулей\" [1 балл]\n",
    "## Пример:\n",
    "# Для x = np.array([6, 2, 0, 3, 0, 0, 5, 7, 0]) ответ 5.\n",
    "def my_max_element(x):\n",
    "    # здесь ваш код\n",
    "    \n",
    "    return result"
   ]
  },
  {
   "cell_type": "code",
   "execution_count": 185,
   "metadata": {},
   "outputs": [],
   "source": [
    "# Написать функцию, которая подсчитывает матрицу евклидовых расстояний между объектами, содержащимися в матрицах X и Y. [2 балла]\n",
    "# (без использования scipy.spatial.disctance.cdist)\n",
    "# Матрицы X и Y размерностей число объектов x размерность пространства (число объектов в X и в Y может быть различным)\n",
    "## Пример:\n",
    "# Для матриц: X = np.array([[6, 6, 5],   Y = np.array([[1, 1, 0],\n",
    "#                           [5, 6, 5]                  [0, 0, 1]])\n",
    "#                           [5, 5, 5],\n",
    "#                           [6, 6, 5],\n",
    "#                           [5, 6, 5]])\n",
    "# Ответ должен быть: np.array([[8.66025404, 9.38083152],\n",
    "#                              [8.1240384 , 8.77496439],\n",
    "#                              [7.54983444, 8.1240384 ],\n",
    "#                              [8.66025404, 9.38083152],\n",
    "#                              [8.1240384 , 8.77496439]])\n",
    "def euc_dist_matrix(X, Y):\n",
    "    # здесь ваш код:\n",
    "    \n",
    "    return result\n"
   ]
  },
  {
   "cell_type": "markdown",
   "metadata": {},
   "source": [
    "### Визуализация"
   ]
  },
  {
   "cell_type": "code",
   "execution_count": 46,
   "metadata": {},
   "outputs": [],
   "source": [
    "# Постройте гистограмму распределения сумм покупок и гистограмму средних цен отдельных видов продуктов item_name.\n",
    "# Изображайте на двух соседних графиках. Для этого может быть полезен subplot. [3 балла]"
   ]
  },
  {
   "cell_type": "code",
   "execution_count": 186,
   "metadata": {},
   "outputs": [
    {
     "data": {
      "image/png": "[encoded data removed]",
      "text/plain": [
       "<Figure size 1152x720 with 2 Axes>"
      ]
     },
     "metadata": {},
     "output_type": "display_data"
    }
   ],
   "source": [
    "fig, ax = plt.subplots(nrows=1, ncols=2, figsize=(16, 10))\n",
    "# здесь ваш код:\n"
   ]
  },
  {
   "cell_type": "code",
   "execution_count": 187,
   "metadata": {},
   "outputs": [],
   "source": [
    "# Постройте график зависимости (scatterplot) item_price от quantity [0.5 балла]\n",
    "# здесь ваш код:\n"
   ]
  },
  {
   "cell_type": "code",
   "execution_count": 188,
   "metadata": {},
   "outputs": [],
   "source": [
    "# Добавьте в датафрейм dat новую колонку day_of_week - слуйчайную величину от 1 до 7. [0 баллов]\n",
    "# здесь ваш код:\n"
   ]
  },
  {
   "cell_type": "code",
   "execution_count": null,
   "metadata": {},
   "outputs": [],
   "source": []
  },
  {
   "cell_type": "code",
   "execution_count": 189,
   "metadata": {},
   "outputs": [],
   "source": [
    "# Нарисуйте барплот. По оси икс - день недели, по оси игрек - средний чек за покупку в этот день недели. [1 балл]\n",
    "# здесь ваш гарфик:\n"
   ]
  },
  {
   "cell_type": "code",
   "execution_count": 177,
   "metadata": {},
   "outputs": [],
   "source": [
    "# Нарисуйте линейный график (plt.plot) изменения средней стоимости заказа в зависимости от order_id [1 балл]\n",
    "# здесь ваш код:\n"
   ]
  }
 ],
 "metadata": {
  "kernelspec": {
   "display_name": "Python 3",
   "language": "python",
   "name": "python3"
  },
  "language_info": {
   "codemirror_mode": {
    "name": "ipython",
    "version": 3
   },
   "file_extension": ".py",
   "mimetype": "text/x-python",
   "name": "python",
   "nbconvert_exporter": "python",
   "pygments_lexer": "ipython3",
   "version": "3.7.1"
  }
 },
 "nbformat": 4,
 "nbformat_minor": 2
}
