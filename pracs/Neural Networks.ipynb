{
 "cells": [
  {
   "cell_type": "code",
   "execution_count": 1,
   "metadata": {},
   "outputs": [],
   "source": [
    "import os\n",
    "import json\n",
    "from tqdm import tqdm_notebook\n",
    "import time\n",
    "import numpy as np\n",
    "import scipy\n",
    "import pandas as pd\n",
    "import matplotlib\n",
    "%matplotlib inline\n",
    "import matplotlib.pyplot as plt\n",
    "import seaborn as sns"
   ]
  },
  {
   "cell_type": "code",
   "execution_count": 2,
   "metadata": {},
   "outputs": [],
   "source": [
    "matplotlib.rcParams['figure.figsize'] = (8, 8)\n",
    "sns.set_style('whitegrid')"
   ]
  },
  {
   "cell_type": "code",
   "execution_count": 4,
   "metadata": {},
   "outputs": [],
   "source": [
    "# Для обработки текстов\n",
    "import pymorphy2"
   ]
  },
  {
   "cell_type": "code",
   "execution_count": 3,
   "metadata": {},
   "outputs": [],
   "source": [
    "# Для работы с нейросетями\n",
    "import torch\n",
    "import torch.nn as nn\n",
    "import torch.optim as optim\n",
    "import torch.nn.functional as F\n",
    "from torch.utils.data import DataLoader"
   ]
  },
  {
   "cell_type": "markdown",
   "metadata": {},
   "source": [
    "Загрузите данные"
   ]
  },
  {
   "cell_type": "markdown",
   "metadata": {},
   "source": [
    "Создайте папку и положите в неё данные (avito_train.csv и avito_category.csv). Путь к папке назвать DIR_PATH"
   ]
  },
  {
   "cell_type": "code",
   "execution_count": null,
   "metadata": {},
   "outputs": [],
   "source": [
    "dat = pd.read_csv(os.path.join(DIR_PATH, 'avito.csv'))\n",
    "cat_descr = pd.read_csv(os.path.join(DIR_PATH, 'avito_category.csv'))\n",
    "dat['category_name'] = dat.category_id.map(dict(zip(cat_descr.category_id, cat_descr.name)))"
   ]
  },
  {
   "cell_type": "code",
   "execution_count": null,
   "metadata": {},
   "outputs": [],
   "source": [
    "dat.head()"
   ]
  },
  {
   "cell_type": "markdown",
   "metadata": {},
   "source": [
    "### Задание 1\n",
    "### Подготовка данных"
   ]
  },
  {
   "cell_type": "markdown",
   "metadata": {},
   "source": [
    "[1.1] (0.5 балла)"
   ]
  },
  {
   "cell_type": "markdown",
   "metadata": {},
   "source": [
    "Разбейте таргет на иерархические классы."
   ]
  },
  {
   "cell_type": "code",
   "execution_count": null,
   "metadata": {},
   "outputs": [],
   "source": [
    "# Ваш код здесь:\n",
    "dat['category_1'] = None\n",
    "dat['category_2'] = None\n",
    "dat['category_3'] = None\n",
    "dat['category_4'] = None"
   ]
  },
  {
   "cell_type": "markdown",
   "metadata": {},
   "source": [
    "Загрузите список стоп-слов https://raw.githubusercontent.com/stopwords-iso/stopwords-ru/master/stopwords-ru.json"
   ]
  },
  {
   "cell_type": "code",
   "execution_count": null,
   "metadata": {},
   "outputs": [],
   "source": [
    "# Ваш код здесь:\n",
    "stop_words = "
   ]
  },
  {
   "cell_type": "markdown",
   "metadata": {},
   "source": [
    "[1.2] (1 балл)\n",
    "\n",
    "Лемматизируйте категории (таргеты)"
   ]
  },
  {
   "cell_type": "code",
   "execution_count": null,
   "metadata": {},
   "outputs": [],
   "source": [
    "# Ваш код здесь:\n",
    "dat['category_name_processed'] = "
   ]
  },
  {
   "cell_type": "markdown",
   "metadata": {},
   "source": [
    "[1.3] (2 балла)\n",
    "\n",
    "Лемматизируйте заголовки и описания объявлений"
   ]
  },
  {
   "cell_type": "code",
   "execution_count": null,
   "metadata": {},
   "outputs": [],
   "source": [
    "# Ваш код здесь:\n",
    "dat['title_processed'] = \n",
    "dat['description_processed'] = "
   ]
  },
  {
   "cell_type": "markdown",
   "metadata": {},
   "source": [
    "[1.4] (0.5 балла)\n",
    "\n",
    "Разбейте данные на обучение, валидацию и отложенный тест в пропорции 60/30/10. Постройте распределений категорий в каждом из разбиений для того, чтобы убедиться, что распределения совпадают"
   ]
  },
  {
   "cell_type": "code",
   "execution_count": 31,
   "metadata": {},
   "outputs": [],
   "source": [
    "# Ваш код здесь:\n",
    "np.random.seed(10) # Не меняем random seed!\n",
    "tr_indexes, val_indexes, te_indexes = np.split(\n",
    "    np.random.permutation(np.arange(489517)), [int(489517*0.6), int(489517*0.9)]\n",
    ")"
   ]
  },
  {
   "cell_type": "code",
   "execution_count": 6,
   "metadata": {},
   "outputs": [],
   "source": [
    "# Здесь постройте распределения:\n"
   ]
  },
  {
   "cell_type": "markdown",
   "metadata": {},
   "source": [
    "### Задание 2\n",
    "### Бейзлайн"
   ]
  },
  {
   "cell_type": "markdown",
   "metadata": {},
   "source": [
    "[2.1] (5 баллов)\n",
    "\n",
    "Обучите простую модель для того, чтобы в дальнейшем с ней сравниваться. Точность (accuracy) данной бейзлан модели должна быть > 0.6. \n",
    "\n",
    "В качестве такой модели можно взять Tf-Idf преобразования текстов + (logreg/random forest/boosting/...). Можно так же попробовать в качестве признаков взять word2vec вектора слов."
   ]
  },
  {
   "cell_type": "code",
   "execution_count": 8,
   "metadata": {},
   "outputs": [],
   "source": [
    "# Ваш код здесь:\n"
   ]
  },
  {
   "cell_type": "markdown",
   "metadata": {},
   "source": [
    "[2.2] (2 балла)\n",
    "\n",
    "Посчитайте качество вашей бейзлайн модели на отложенном тесте (te_indexe)"
   ]
  },
  {
   "cell_type": "code",
   "execution_count": 9,
   "metadata": {},
   "outputs": [],
   "source": [
    "# Ваш код здесь:"
   ]
  },
  {
   "cell_type": "markdown",
   "metadata": {},
   "source": [
    "### Задание 3\n",
    "\n",
    "### Нейросетки"
   ]
  },
  {
   "cell_type": "markdown",
   "metadata": {},
   "source": [
    "Настало время для действительно крутых моделей!\n",
    "\n",
    "[3.1] (26 баллов) [Точность на тесте 0.6 - 0 баллов, точность на тесте 0.86 и более - 26 баллов]\n",
    "\n",
    "Обучите нейросетку, которая бы решала данную задачу с точностью > 0.86. Вы неограничены в выборе архитектуры нейросети. Можно начать с Tf-Idf + полносвязная сеть. Экспериментируйте!"
   ]
  },
  {
   "cell_type": "code",
   "execution_count": 11,
   "metadata": {},
   "outputs": [],
   "source": [
    "# Ваш код здесь:"
   ]
  },
  {
   "cell_type": "code",
   "execution_count": null,
   "metadata": {},
   "outputs": [],
   "source": []
  }
 ],
 "metadata": {
  "kernelspec": {
   "display_name": "Python 3",
   "language": "python",
   "name": "python3"
  },
  "language_info": {
   "codemirror_mode": {
    "name": "ipython",
    "version": 3
   },
   "file_extension": ".py",
   "mimetype": "text/x-python",
   "name": "python",
   "nbconvert_exporter": "python",
   "pygments_lexer": "ipython3",
   "version": "3.7.3"
  }
 },
 "nbformat": 4,
 "nbformat_minor": 2
}
